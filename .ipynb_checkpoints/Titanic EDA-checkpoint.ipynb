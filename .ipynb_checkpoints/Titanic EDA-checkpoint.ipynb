{
 "cells": [
  {
   "cell_type": "code",
   "execution_count": 1,
   "metadata": {},
   "outputs": [],
   "source": [
    "import numpy as np\n",
    "import pandas as pd\n",
    "import math \n",
    "# Modelling Helpers\n",
    "from sklearn.preprocessing import Imputer , Normalizer , scale\n",
    "from sklearn.model_selection import train_test_split\n",
    "from sklearn.feature_selection import RFECV\n",
    "from sklearn.model_selection import GridSearchCV\n",
    "\n",
    "# Visualisation\n",
    "import matplotlib as mpl\n",
    "import matplotlib.pyplot as plt\n",
    "import matplotlib.pylab as pylab\n",
    "import seaborn as sns"
   ]
  },
  {
   "cell_type": "code",
   "execution_count": 2,
   "metadata": {},
   "outputs": [],
   "source": [
    "train = pd.read_csv('train.csv' ) # Train\n",
    "test = pd.read_csv('test.csv' ) # Test\n",
    "test_df = test.copy()"
   ]
  },
  {
   "cell_type": "code",
   "execution_count": 3,
   "metadata": {},
   "outputs": [
    {
     "data": {
      "text/html": [
       "<div>\n",
       "<style scoped>\n",
       "    .dataframe tbody tr th:only-of-type {\n",
       "        vertical-align: middle;\n",
       "    }\n",
       "\n",
       "    .dataframe tbody tr th {\n",
       "        vertical-align: top;\n",
       "    }\n",
       "\n",
       "    .dataframe thead th {\n",
       "        text-align: right;\n",
       "    }\n",
       "</style>\n",
       "<table border=\"1\" class=\"dataframe\">\n",
       "  <thead>\n",
       "    <tr style=\"text-align: right;\">\n",
       "      <th></th>\n",
       "      <th>PassengerId</th>\n",
       "      <th>Survived</th>\n",
       "      <th>Pclass</th>\n",
       "      <th>Name</th>\n",
       "      <th>Sex</th>\n",
       "      <th>Age</th>\n",
       "      <th>SibSp</th>\n",
       "      <th>Parch</th>\n",
       "      <th>Ticket</th>\n",
       "      <th>Fare</th>\n",
       "      <th>Cabin</th>\n",
       "      <th>Embarked</th>\n",
       "    </tr>\n",
       "  </thead>\n",
       "  <tbody>\n",
       "    <tr>\n",
       "      <th>0</th>\n",
       "      <td>1</td>\n",
       "      <td>0</td>\n",
       "      <td>3</td>\n",
       "      <td>Braund, Mr. Owen Harris</td>\n",
       "      <td>male</td>\n",
       "      <td>22.0</td>\n",
       "      <td>1</td>\n",
       "      <td>0</td>\n",
       "      <td>A/5 21171</td>\n",
       "      <td>7.2500</td>\n",
       "      <td>NaN</td>\n",
       "      <td>S</td>\n",
       "    </tr>\n",
       "    <tr>\n",
       "      <th>1</th>\n",
       "      <td>2</td>\n",
       "      <td>1</td>\n",
       "      <td>1</td>\n",
       "      <td>Cumings, Mrs. John Bradley (Florence Briggs Th...</td>\n",
       "      <td>female</td>\n",
       "      <td>38.0</td>\n",
       "      <td>1</td>\n",
       "      <td>0</td>\n",
       "      <td>PC 17599</td>\n",
       "      <td>71.2833</td>\n",
       "      <td>C85</td>\n",
       "      <td>C</td>\n",
       "    </tr>\n",
       "    <tr>\n",
       "      <th>2</th>\n",
       "      <td>3</td>\n",
       "      <td>1</td>\n",
       "      <td>3</td>\n",
       "      <td>Heikkinen, Miss. Laina</td>\n",
       "      <td>female</td>\n",
       "      <td>26.0</td>\n",
       "      <td>0</td>\n",
       "      <td>0</td>\n",
       "      <td>STON/O2. 3101282</td>\n",
       "      <td>7.9250</td>\n",
       "      <td>NaN</td>\n",
       "      <td>S</td>\n",
       "    </tr>\n",
       "    <tr>\n",
       "      <th>3</th>\n",
       "      <td>4</td>\n",
       "      <td>1</td>\n",
       "      <td>1</td>\n",
       "      <td>Futrelle, Mrs. Jacques Heath (Lily May Peel)</td>\n",
       "      <td>female</td>\n",
       "      <td>35.0</td>\n",
       "      <td>1</td>\n",
       "      <td>0</td>\n",
       "      <td>113803</td>\n",
       "      <td>53.1000</td>\n",
       "      <td>C123</td>\n",
       "      <td>S</td>\n",
       "    </tr>\n",
       "    <tr>\n",
       "      <th>4</th>\n",
       "      <td>5</td>\n",
       "      <td>0</td>\n",
       "      <td>3</td>\n",
       "      <td>Allen, Mr. William Henry</td>\n",
       "      <td>male</td>\n",
       "      <td>35.0</td>\n",
       "      <td>0</td>\n",
       "      <td>0</td>\n",
       "      <td>373450</td>\n",
       "      <td>8.0500</td>\n",
       "      <td>NaN</td>\n",
       "      <td>S</td>\n",
       "    </tr>\n",
       "  </tbody>\n",
       "</table>\n",
       "</div>"
      ],
      "text/plain": [
       "   PassengerId  Survived  Pclass  \\\n",
       "0            1         0       3   \n",
       "1            2         1       1   \n",
       "2            3         1       3   \n",
       "3            4         1       1   \n",
       "4            5         0       3   \n",
       "\n",
       "                                                Name     Sex   Age  SibSp  \\\n",
       "0                            Braund, Mr. Owen Harris    male  22.0      1   \n",
       "1  Cumings, Mrs. John Bradley (Florence Briggs Th...  female  38.0      1   \n",
       "2                             Heikkinen, Miss. Laina  female  26.0      0   \n",
       "3       Futrelle, Mrs. Jacques Heath (Lily May Peel)  female  35.0      1   \n",
       "4                           Allen, Mr. William Henry    male  35.0      0   \n",
       "\n",
       "   Parch            Ticket     Fare Cabin Embarked  \n",
       "0      0         A/5 21171   7.2500   NaN        S  \n",
       "1      0          PC 17599  71.2833   C85        C  \n",
       "2      0  STON/O2. 3101282   7.9250   NaN        S  \n",
       "3      0            113803  53.1000  C123        S  \n",
       "4      0            373450   8.0500   NaN        S  "
      ]
     },
     "execution_count": 3,
     "metadata": {},
     "output_type": "execute_result"
    }
   ],
   "source": [
    "train.head()"
   ]
  },
  {
   "cell_type": "markdown",
   "metadata": {},
   "source": [
    "## Features:\n",
    "    PassengerId : The id given to each traveller on the boat.\n",
    "    Pclass : The Passenger class. It has three possible values: 1,2,3 (first, second and third class).\n",
    "    Name : The Name of the passeger.\n",
    "    Sex : The Gender of the Passenger.\n",
    "    Age : The Age of the Passenger.\n",
    "    SibSp : The number of siblings and spouses traveling with the passenger.\n",
    "    Parch : number of parents and children traveling with the passenger.\n",
    "    Ticket : The ticket number of the Passenger.\n",
    "    Fare : The ticket Fare of the passenger\n",
    "    Cabin : The cabin number.\n",
    "    Embarked : This describe three areas of the Titanic from which the people embark. Three possible values S,C,Q (Southampton, Cherbourg, Queenstown).\n",
    "    Qualitative Features (Categorical) : PassengerId , Pclass , Survived , Sex , Ticket , Cabin , Embarked.\n",
    "\n",
    "    Quantitative Features (Numerical) : SibSp , Parch , Age , Fare.\n",
    "\n",
    "    Survival is the Target Variable.\n"
   ]
  },
  {
   "cell_type": "code",
   "execution_count": 4,
   "metadata": {},
   "outputs": [
    {
     "data": {
      "text/plain": [
       "(891, 12)"
      ]
     },
     "execution_count": 4,
     "metadata": {},
     "output_type": "execute_result"
    }
   ],
   "source": [
    "train.shape"
   ]
  },
  {
   "cell_type": "code",
   "execution_count": 5,
   "metadata": {},
   "outputs": [
    {
     "data": {
      "text/plain": [
       "PassengerId      0\n",
       "Survived         0\n",
       "Pclass           0\n",
       "Name             0\n",
       "Sex              0\n",
       "Age            177\n",
       "SibSp            0\n",
       "Parch            0\n",
       "Ticket           0\n",
       "Fare             0\n",
       "Cabin          687\n",
       "Embarked         2\n",
       "dtype: int64"
      ]
     },
     "execution_count": 5,
     "metadata": {},
     "output_type": "execute_result"
    }
   ],
   "source": [
    "train.isnull().sum()"
   ]
  },
  {
   "cell_type": "markdown",
   "metadata": {},
   "source": [
    "We have null values in Age and Cabin."
   ]
  },
  {
   "cell_type": "code",
   "execution_count": 6,
   "metadata": {},
   "outputs": [
    {
     "data": {
      "text/plain": [
       "0    0.616162\n",
       "1    0.383838\n",
       "Name: Survived, dtype: float64"
      ]
     },
     "execution_count": 6,
     "metadata": {},
     "output_type": "execute_result"
    }
   ],
   "source": [
    "# Look at the percentage\n",
    "train.Survived.value_counts(normalize=True)"
   ]
  },
  {
   "cell_type": "markdown",
   "metadata": {},
   "source": [
    "#### So, out of 891 examples only 342 (38%) survived and rest all died."
   ]
  },
  {
   "cell_type": "code",
   "execution_count": 7,
   "metadata": {},
   "outputs": [
    {
     "name": "stderr",
     "output_type": "stream",
     "text": [
      "/Library/Frameworks/Python.framework/Versions/3.7/lib/python3.7/site-packages/seaborn/categorical.py:3666: UserWarning: The `factorplot` function has been renamed to `catplot`. The original name will be removed in a future release. Please update your code. Note that the default `kind` in `factorplot` (`'point'`) has changed `'strip'` in `catplot`.\n",
      "  warnings.warn(msg)\n",
      "/Library/Frameworks/Python.framework/Versions/3.7/lib/python3.7/site-packages/seaborn/categorical.py:3672: UserWarning: The `size` paramter has been renamed to `height`; please update your code.\n",
      "  warnings.warn(msg, UserWarning)\n"
     ]
    },
    {
     "data": {
      "text/plain": [
       "<seaborn.axisgrid.FacetGrid at 0x122f0a6a0>"
      ]
     },
     "execution_count": 7,
     "metadata": {},
     "output_type": "execute_result"
    },
    {
     "data": {
      "image/png": "[encoded data removed]",
      "text/plain": [
       "<Figure size 129.6x216 with 1 Axes>"
      ]
     },
     "metadata": {
      "needs_background": "light"
     },
     "output_type": "display_data"
    }
   ],
   "source": [
    "sns.factorplot(x='Survived' , kind='count' , data=train , palette=['r','g'] , size=3 , aspect=.6)"
   ]
  },
  {
   "cell_type": "markdown",
   "metadata": {},
   "source": [
    "Let's examine the survival ratio based on Pclass to see if some people were given the priority."
   ]
  },
  {
   "cell_type": "code",
   "execution_count": 8,
   "metadata": {},
   "outputs": [
    {
     "data": {
      "text/html": [
       "<div>\n",
       "<style scoped>\n",
       "    .dataframe tbody tr th:only-of-type {\n",
       "        vertical-align: middle;\n",
       "    }\n",
       "\n",
       "    .dataframe tbody tr th {\n",
       "        vertical-align: top;\n",
       "    }\n",
       "\n",
       "    .dataframe thead th {\n",
       "        text-align: right;\n",
       "    }\n",
       "</style>\n",
       "<table border=\"1\" class=\"dataframe\">\n",
       "  <thead>\n",
       "    <tr style=\"text-align: right;\">\n",
       "      <th>Survived</th>\n",
       "      <th>0</th>\n",
       "      <th>1</th>\n",
       "      <th>All</th>\n",
       "    </tr>\n",
       "    <tr>\n",
       "      <th>Pclass</th>\n",
       "      <th></th>\n",
       "      <th></th>\n",
       "      <th></th>\n",
       "    </tr>\n",
       "  </thead>\n",
       "  <tbody>\n",
       "    <tr>\n",
       "      <th>1</th>\n",
       "      <td>80</td>\n",
       "      <td>136</td>\n",
       "      <td>216</td>\n",
       "    </tr>\n",
       "    <tr>\n",
       "      <th>2</th>\n",
       "      <td>97</td>\n",
       "      <td>87</td>\n",
       "      <td>184</td>\n",
       "    </tr>\n",
       "    <tr>\n",
       "      <th>3</th>\n",
       "      <td>372</td>\n",
       "      <td>119</td>\n",
       "      <td>491</td>\n",
       "    </tr>\n",
       "    <tr>\n",
       "      <th>All</th>\n",
       "      <td>549</td>\n",
       "      <td>342</td>\n",
       "      <td>891</td>\n",
       "    </tr>\n",
       "  </tbody>\n",
       "</table>\n",
       "</div>"
      ],
      "text/plain": [
       "Survived    0    1  All\n",
       "Pclass                 \n",
       "1          80  136  216\n",
       "2          97   87  184\n",
       "3         372  119  491\n",
       "All       549  342  891"
      ]
     },
     "execution_count": 8,
     "metadata": {},
     "output_type": "execute_result"
    }
   ],
   "source": [
    "pd.crosstab(train.Pclass , train.Survived , margins=True)"
   ]
  },
  {
   "cell_type": "code",
   "execution_count": 9,
   "metadata": {},
   "outputs": [
    {
     "data": {
      "text/html": [
       "<div>\n",
       "<style scoped>\n",
       "    .dataframe tbody tr th:only-of-type {\n",
       "        vertical-align: middle;\n",
       "    }\n",
       "\n",
       "    .dataframe tbody tr th {\n",
       "        vertical-align: top;\n",
       "    }\n",
       "\n",
       "    .dataframe thead th {\n",
       "        text-align: right;\n",
       "    }\n",
       "</style>\n",
       "<table border=\"1\" class=\"dataframe\">\n",
       "  <thead>\n",
       "    <tr style=\"text-align: right;\">\n",
       "      <th></th>\n",
       "      <th>Survived</th>\n",
       "    </tr>\n",
       "    <tr>\n",
       "      <th>Pclass</th>\n",
       "      <th></th>\n",
       "    </tr>\n",
       "  </thead>\n",
       "  <tbody>\n",
       "    <tr>\n",
       "      <th>1</th>\n",
       "      <td>0.629630</td>\n",
       "    </tr>\n",
       "    <tr>\n",
       "      <th>2</th>\n",
       "      <td>0.472826</td>\n",
       "    </tr>\n",
       "    <tr>\n",
       "      <th>3</th>\n",
       "      <td>0.242363</td>\n",
       "    </tr>\n",
       "  </tbody>\n",
       "</table>\n",
       "</div>"
      ],
      "text/plain": [
       "        Survived\n",
       "Pclass          \n",
       "1       0.629630\n",
       "2       0.472826\n",
       "3       0.242363"
      ]
     },
     "execution_count": 9,
     "metadata": {},
     "output_type": "execute_result"
    }
   ],
   "source": [
    "train[['Pclass' , 'Survived']].groupby('Pclass').mean()"
   ]
  },
  {
   "cell_type": "markdown",
   "metadata": {},
   "source": [
    "#### The trend of decreasing survival rate can be clearly seen on the basis of Pclass. Therefore, we see that high class were given more priority."
   ]
  },
  {
   "cell_type": "code",
   "execution_count": 10,
   "metadata": {},
   "outputs": [
    {
     "name": "stderr",
     "output_type": "stream",
     "text": [
      "/Library/Frameworks/Python.framework/Versions/3.7/lib/python3.7/site-packages/seaborn/categorical.py:3666: UserWarning: The `factorplot` function has been renamed to `catplot`. The original name will be removed in a future release. Please update your code. Note that the default `kind` in `factorplot` (`'point'`) has changed `'strip'` in `catplot`.\n",
      "  warnings.warn(msg)\n",
      "/Library/Frameworks/Python.framework/Versions/3.7/lib/python3.7/site-packages/seaborn/categorical.py:3672: UserWarning: The `size` paramter has been renamed to `height`; please update your code.\n",
      "  warnings.warn(msg, UserWarning)\n"
     ]
    },
    {
     "data": {
      "text/plain": [
       "<seaborn.axisgrid.FacetGrid at 0x111779438>"
      ]
     },
     "execution_count": 10,
     "metadata": {},
     "output_type": "execute_result"
    },
    {
     "data": {
      "image/png": "[encoded data removed]",
      "text/plain": [
       "<Figure size 576x360 with 2 Axes>"
      ]
     },
     "metadata": {
      "needs_background": "light"
     },
     "output_type": "display_data"
    }
   ],
   "source": [
    "sns.factorplot(x='Pclass' , data=train , col='Survived' , kind='count' , size=5 , aspect=.8)"
   ]
  },
  {
   "cell_type": "markdown",
   "metadata": {},
   "source": [
    "#### Let's see if there was a preference based on gender in saving lives"
   ]
  },
  {
   "cell_type": "code",
   "execution_count": 11,
   "metadata": {},
   "outputs": [
    {
     "data": {
      "text/html": [
       "<div>\n",
       "<style scoped>\n",
       "    .dataframe tbody tr th:only-of-type {\n",
       "        vertical-align: middle;\n",
       "    }\n",
       "\n",
       "    .dataframe tbody tr th {\n",
       "        vertical-align: top;\n",
       "    }\n",
       "\n",
       "    .dataframe thead th {\n",
       "        text-align: right;\n",
       "    }\n",
       "</style>\n",
       "<table border=\"1\" class=\"dataframe\">\n",
       "  <thead>\n",
       "    <tr style=\"text-align: right;\">\n",
       "      <th>Survived</th>\n",
       "      <th>0</th>\n",
       "      <th>1</th>\n",
       "    </tr>\n",
       "    <tr>\n",
       "      <th>Sex</th>\n",
       "      <th></th>\n",
       "      <th></th>\n",
       "    </tr>\n",
       "  </thead>\n",
       "  <tbody>\n",
       "    <tr>\n",
       "      <th>female</th>\n",
       "      <td>0.257962</td>\n",
       "      <td>0.742038</td>\n",
       "    </tr>\n",
       "    <tr>\n",
       "      <th>male</th>\n",
       "      <td>0.811092</td>\n",
       "      <td>0.188908</td>\n",
       "    </tr>\n",
       "    <tr>\n",
       "      <th>All</th>\n",
       "      <td>0.616162</td>\n",
       "      <td>0.383838</td>\n",
       "    </tr>\n",
       "  </tbody>\n",
       "</table>\n",
       "</div>"
      ],
      "text/plain": [
       "Survived         0         1\n",
       "Sex                         \n",
       "female    0.257962  0.742038\n",
       "male      0.811092  0.188908\n",
       "All       0.616162  0.383838"
      ]
     },
     "execution_count": 11,
     "metadata": {},
     "output_type": "execute_result"
    }
   ],
   "source": [
    "pd.crosstab(train.Sex , train.Survived , margins=True,normalize='index')"
   ]
  },
  {
   "cell_type": "markdown",
   "metadata": {},
   "source": [
    "#### We can see that clearly ratio of survival of female to men is almost 3:1."
   ]
  },
  {
   "cell_type": "code",
   "execution_count": 12,
   "metadata": {},
   "outputs": [
    {
     "name": "stderr",
     "output_type": "stream",
     "text": [
      "/Library/Frameworks/Python.framework/Versions/3.7/lib/python3.7/site-packages/seaborn/categorical.py:3666: UserWarning: The `factorplot` function has been renamed to `catplot`. The original name will be removed in a future release. Please update your code. Note that the default `kind` in `factorplot` (`'point'`) has changed `'strip'` in `catplot`.\n",
      "  warnings.warn(msg)\n"
     ]
    },
    {
     "data": {
      "text/plain": [
       "<seaborn.axisgrid.FacetGrid at 0x10fddfc18>"
      ]
     },
     "execution_count": 12,
     "metadata": {},
     "output_type": "execute_result"
    },
    {
     "data": {
      "image/png": "[encoded data removed]",
      "text/plain": [
       "<Figure size 411.875x360 with 1 Axes>"
      ]
     },
     "metadata": {
      "needs_background": "light"
     },
     "output_type": "display_data"
    }
   ],
   "source": [
    "sns.factorplot(x='Sex' , y='Age' , data=train , hue='Survived' , kind='violin' , palette='Accent' , split=True)"
   ]
  },
  {
   "cell_type": "markdown",
   "metadata": {},
   "source": [
    "We can see that Males have Surviving Density less than Females (Bulged) . And majority of those who survived belonged to the category of Age limit 20-30 . Same is true for the Death Scenario."
   ]
  },
  {
   "cell_type": "code",
   "execution_count": 13,
   "metadata": {},
   "outputs": [
    {
     "data": {
      "text/plain": [
       "<matplotlib.axes._subplots.AxesSubplot at 0x10fe046a0>"
      ]
     },
     "execution_count": 13,
     "metadata": {},
     "output_type": "execute_result"
    },
    {
     "data": {
      "image/png": "[encoded data removed]",
      "text/plain": [
       "<Figure size 432x288 with 1 Axes>"
      ]
     },
     "metadata": {
      "needs_background": "light"
     },
     "output_type": "display_data"
    }
   ],
   "source": [
    "sns.countplot(x='Sex',data=train,hue='Survived',palette='Accent')"
   ]
  },
  {
   "cell_type": "markdown",
   "metadata": {},
   "source": [
    "#### The above graph is a clear indication of above results."
   ]
  },
  {
   "cell_type": "markdown",
   "metadata": {},
   "source": [
    "#### Now for examining age, we need to first impute it..."
   ]
  },
  {
   "cell_type": "code",
   "execution_count": 14,
   "metadata": {},
   "outputs": [],
   "source": [
    "train['Age']=train['Age'].fillna(train['Age'].median())"
   ]
  },
  {
   "cell_type": "code",
   "execution_count": 15,
   "metadata": {},
   "outputs": [
    {
     "data": {
      "text/plain": [
       "<matplotlib.axes._subplots.AxesSubplot at 0x1278c9c50>"
      ]
     },
     "execution_count": 15,
     "metadata": {},
     "output_type": "execute_result"
    },
    {
     "data": {
      "image/png": "[encoded data removed]",
      "text/plain": [
       "<Figure size 432x288 with 1 Axes>"
      ]
     },
     "metadata": {
      "needs_background": "light"
     },
     "output_type": "display_data"
    }
   ],
   "source": [
    "sns.distplot(train.Age , color='r')"
   ]
  },
  {
   "cell_type": "markdown",
   "metadata": {},
   "source": [
    "#### I used median to fill empty points because of the outliers present in it. We can also infer that most of the people were close to age 30."
   ]
  },
  {
   "cell_type": "code",
   "execution_count": 16,
   "metadata": {},
   "outputs": [
    {
     "name": "stderr",
     "output_type": "stream",
     "text": [
      "/Library/Frameworks/Python.framework/Versions/3.7/lib/python3.7/site-packages/seaborn/categorical.py:3666: UserWarning: The `factorplot` function has been renamed to `catplot`. The original name will be removed in a future release. Please update your code. Note that the default `kind` in `factorplot` (`'point'`) has changed `'strip'` in `catplot`.\n",
      "  warnings.warn(msg)\n"
     ]
    },
    {
     "data": {
      "text/plain": [
       "<seaborn.axisgrid.FacetGrid at 0x10fddf358>"
      ]
     },
     "execution_count": 16,
     "metadata": {},
     "output_type": "execute_result"
    },
    {
     "data": {
      "image/png": "[encoded data removed]",
      "text/plain": [
       "<Figure size 1131.88x360 with 3 Axes>"
      ]
     },
     "metadata": {
      "needs_background": "light"
     },
     "output_type": "display_data"
    }
   ],
   "source": [
    "sns.factorplot(x='Sex',y='Age' , col='Pclass', data=train , hue='Survived' , kind = 'box', palette=['r','g'])"
   ]
  },
  {
   "cell_type": "markdown",
   "metadata": {},
   "source": [
    "We can see that net survival is more in Pclass 1 as discussed earlier and minimum in Pclass3."
   ]
  },
  {
   "cell_type": "markdown",
   "metadata": {},
   "source": [
    "#### Some more insights:\n",
    "    Many men (younger in age) in Pclass2 survived and the number was even more than the women.\n",
    "    It seems that the passengers of class3 belong to a particular age group only.\n",
    "    But there do exist some extreme outliers."
   ]
  },
  {
   "cell_type": "markdown",
   "metadata": {},
   "source": [
    "### Let's see if fare has some impact.."
   ]
  },
  {
   "cell_type": "code",
   "execution_count": 17,
   "metadata": {},
   "outputs": [
    {
     "data": {
      "text/plain": [
       "<matplotlib.axes._subplots.AxesSubplot at 0x127f364e0>"
      ]
     },
     "execution_count": 17,
     "metadata": {},
     "output_type": "execute_result"
    },
    {
     "data": {
      "image/png": "[encoded data removed]",
      "text/plain": [
       "<Figure size 432x288 with 1 Axes>"
      ]
     },
     "metadata": {
      "needs_background": "light"
     },
     "output_type": "display_data"
    }
   ],
   "source": [
    "sns.barplot(train['Embarked'] , y =train['Fare'] ,hue=train['Survived'],palette='Accent')"
   ]
  },
  {
   "cell_type": "markdown",
   "metadata": {},
   "source": [
    "#### We can see that those who paid high were likely to Survive."
   ]
  },
  {
   "cell_type": "markdown",
   "metadata": {},
   "source": [
    "##### To study embarked we need to first impute it.."
   ]
  },
  {
   "cell_type": "code",
   "execution_count": 18,
   "metadata": {},
   "outputs": [],
   "source": [
    "train['Embarked'].fillna(train['Embarked'].mode()[0],inplace=True)"
   ]
  },
  {
   "cell_type": "code",
   "execution_count": 19,
   "metadata": {},
   "outputs": [
    {
     "data": {
      "text/html": [
       "<div>\n",
       "<style scoped>\n",
       "    .dataframe tbody tr th:only-of-type {\n",
       "        vertical-align: middle;\n",
       "    }\n",
       "\n",
       "    .dataframe tbody tr th {\n",
       "        vertical-align: top;\n",
       "    }\n",
       "\n",
       "    .dataframe thead tr th {\n",
       "        text-align: left;\n",
       "    }\n",
       "\n",
       "    .dataframe thead tr:last-of-type th {\n",
       "        text-align: right;\n",
       "    }\n",
       "</style>\n",
       "<table border=\"1\" class=\"dataframe\">\n",
       "  <thead>\n",
       "    <tr>\n",
       "      <th></th>\n",
       "      <th>Pclass</th>\n",
       "      <th colspan=\"3\" halign=\"left\">1</th>\n",
       "      <th colspan=\"3\" halign=\"left\">2</th>\n",
       "      <th colspan=\"3\" halign=\"left\">3</th>\n",
       "      <th>All</th>\n",
       "    </tr>\n",
       "    <tr>\n",
       "      <th></th>\n",
       "      <th>Embarked</th>\n",
       "      <th>C</th>\n",
       "      <th>Q</th>\n",
       "      <th>S</th>\n",
       "      <th>C</th>\n",
       "      <th>Q</th>\n",
       "      <th>S</th>\n",
       "      <th>C</th>\n",
       "      <th>Q</th>\n",
       "      <th>S</th>\n",
       "      <th></th>\n",
       "    </tr>\n",
       "    <tr>\n",
       "      <th>Sex</th>\n",
       "      <th>Survived</th>\n",
       "      <th></th>\n",
       "      <th></th>\n",
       "      <th></th>\n",
       "      <th></th>\n",
       "      <th></th>\n",
       "      <th></th>\n",
       "      <th></th>\n",
       "      <th></th>\n",
       "      <th></th>\n",
       "      <th></th>\n",
       "    </tr>\n",
       "  </thead>\n",
       "  <tbody>\n",
       "    <tr>\n",
       "      <th rowspan=\"2\" valign=\"top\">female</th>\n",
       "      <th>0</th>\n",
       "      <td>1</td>\n",
       "      <td>0</td>\n",
       "      <td>2</td>\n",
       "      <td>0</td>\n",
       "      <td>0</td>\n",
       "      <td>6</td>\n",
       "      <td>8</td>\n",
       "      <td>9</td>\n",
       "      <td>55</td>\n",
       "      <td>81</td>\n",
       "    </tr>\n",
       "    <tr>\n",
       "      <th>1</th>\n",
       "      <td>42</td>\n",
       "      <td>1</td>\n",
       "      <td>48</td>\n",
       "      <td>7</td>\n",
       "      <td>2</td>\n",
       "      <td>61</td>\n",
       "      <td>15</td>\n",
       "      <td>24</td>\n",
       "      <td>33</td>\n",
       "      <td>233</td>\n",
       "    </tr>\n",
       "    <tr>\n",
       "      <th rowspan=\"2\" valign=\"top\">male</th>\n",
       "      <th>0</th>\n",
       "      <td>25</td>\n",
       "      <td>1</td>\n",
       "      <td>51</td>\n",
       "      <td>8</td>\n",
       "      <td>1</td>\n",
       "      <td>82</td>\n",
       "      <td>33</td>\n",
       "      <td>36</td>\n",
       "      <td>231</td>\n",
       "      <td>468</td>\n",
       "    </tr>\n",
       "    <tr>\n",
       "      <th>1</th>\n",
       "      <td>17</td>\n",
       "      <td>0</td>\n",
       "      <td>28</td>\n",
       "      <td>2</td>\n",
       "      <td>0</td>\n",
       "      <td>15</td>\n",
       "      <td>10</td>\n",
       "      <td>3</td>\n",
       "      <td>34</td>\n",
       "      <td>109</td>\n",
       "    </tr>\n",
       "    <tr>\n",
       "      <th>All</th>\n",
       "      <th></th>\n",
       "      <td>85</td>\n",
       "      <td>2</td>\n",
       "      <td>129</td>\n",
       "      <td>17</td>\n",
       "      <td>3</td>\n",
       "      <td>164</td>\n",
       "      <td>66</td>\n",
       "      <td>72</td>\n",
       "      <td>353</td>\n",
       "      <td>891</td>\n",
       "    </tr>\n",
       "  </tbody>\n",
       "</table>\n",
       "</div>"
      ],
      "text/plain": [
       "Pclass            1           2           3           All\n",
       "Embarked          C  Q    S   C  Q    S   C   Q    S     \n",
       "Sex    Survived                                          \n",
       "female 0          1  0    2   0  0    6   8   9   55   81\n",
       "       1         42  1   48   7  2   61  15  24   33  233\n",
       "male   0         25  1   51   8  1   82  33  36  231  468\n",
       "       1         17  0   28   2  0   15  10   3   34  109\n",
       "All              85  2  129  17  3  164  66  72  353  891"
      ]
     },
     "execution_count": 19,
     "metadata": {},
     "output_type": "execute_result"
    }
   ],
   "source": [
    "pd.crosstab([train.Sex,train.Survived] , [train.Pclass,train.Embarked] , margins=True)"
   ]
  },
  {
   "cell_type": "code",
   "execution_count": 20,
   "metadata": {},
   "outputs": [
    {
     "data": {
      "text/plain": [
       "<matplotlib.axes._subplots.AxesSubplot at 0x12813a9e8>"
      ]
     },
     "execution_count": 20,
     "metadata": {},
     "output_type": "execute_result"
    },
    {
     "data": {
      "image/png": "[encoded data removed]",
      "text/plain": [
       "<Figure size 432x288 with 1 Axes>"
      ]
     },
     "metadata": {
      "needs_background": "light"
     },
     "output_type": "display_data"
    }
   ],
   "source": [
    "sns.violinplot(x='Embarked' , y='Pclass' , data=train , hue='Survived' , palette=['g','r'])"
   ]
  },
  {
   "cell_type": "markdown",
   "metadata": {},
   "source": [
    "#### We can see that those who embarked at C with First Class ticket had a good chance of Survival. Whereas for S, it seems that all classes had nearly equal probability of Survival. And for Q, third Class seems to have Survived and Died with similar probabilities."
   ]
  },
  {
   "cell_type": "markdown",
   "metadata": {},
   "source": [
    "### Let's examine on the basis of Siblings.."
   ]
  },
  {
   "cell_type": "code",
   "execution_count": 21,
   "metadata": {},
   "outputs": [
    {
     "data": {
      "text/html": [
       "<div>\n",
       "<style scoped>\n",
       "    .dataframe tbody tr th:only-of-type {\n",
       "        vertical-align: middle;\n",
       "    }\n",
       "\n",
       "    .dataframe tbody tr th {\n",
       "        vertical-align: top;\n",
       "    }\n",
       "\n",
       "    .dataframe thead th {\n",
       "        text-align: right;\n",
       "    }\n",
       "</style>\n",
       "<table border=\"1\" class=\"dataframe\">\n",
       "  <thead>\n",
       "    <tr style=\"text-align: right;\">\n",
       "      <th></th>\n",
       "      <th>Survived</th>\n",
       "    </tr>\n",
       "    <tr>\n",
       "      <th>SibSp</th>\n",
       "      <th></th>\n",
       "    </tr>\n",
       "  </thead>\n",
       "  <tbody>\n",
       "    <tr>\n",
       "      <th>0</th>\n",
       "      <td>0.345395</td>\n",
       "    </tr>\n",
       "    <tr>\n",
       "      <th>1</th>\n",
       "      <td>0.535885</td>\n",
       "    </tr>\n",
       "    <tr>\n",
       "      <th>2</th>\n",
       "      <td>0.464286</td>\n",
       "    </tr>\n",
       "    <tr>\n",
       "      <th>3</th>\n",
       "      <td>0.250000</td>\n",
       "    </tr>\n",
       "    <tr>\n",
       "      <th>4</th>\n",
       "      <td>0.166667</td>\n",
       "    </tr>\n",
       "    <tr>\n",
       "      <th>5</th>\n",
       "      <td>0.000000</td>\n",
       "    </tr>\n",
       "    <tr>\n",
       "      <th>8</th>\n",
       "      <td>0.000000</td>\n",
       "    </tr>\n",
       "  </tbody>\n",
       "</table>\n",
       "</div>"
      ],
      "text/plain": [
       "       Survived\n",
       "SibSp          \n",
       "0      0.345395\n",
       "1      0.535885\n",
       "2      0.464286\n",
       "3      0.250000\n",
       "4      0.166667\n",
       "5      0.000000\n",
       "8      0.000000"
      ]
     },
     "execution_count": 21,
     "metadata": {},
     "output_type": "execute_result"
    }
   ],
   "source": [
    "train[['SibSp' , 'Survived']].groupby('SibSp').mean()"
   ]
  },
  {
   "cell_type": "markdown",
   "metadata": {},
   "source": [
    "#### It seems that there individuals having 1 or 2 siblings/spouses had the highest Probability of Survival, followed by individuals who were Alone."
   ]
  },
  {
   "cell_type": "markdown",
   "metadata": {},
   "source": [
    "### Now let's examine Parch"
   ]
  },
  {
   "cell_type": "code",
   "execution_count": 22,
   "metadata": {},
   "outputs": [
    {
     "data": {
      "text/html": [
       "<div>\n",
       "<style scoped>\n",
       "    .dataframe tbody tr th:only-of-type {\n",
       "        vertical-align: middle;\n",
       "    }\n",
       "\n",
       "    .dataframe tbody tr th {\n",
       "        vertical-align: top;\n",
       "    }\n",
       "\n",
       "    .dataframe thead th {\n",
       "        text-align: right;\n",
       "    }\n",
       "</style>\n",
       "<table border=\"1\" class=\"dataframe\">\n",
       "  <thead>\n",
       "    <tr style=\"text-align: right;\">\n",
       "      <th></th>\n",
       "      <th>Survived</th>\n",
       "    </tr>\n",
       "    <tr>\n",
       "      <th>Parch</th>\n",
       "      <th></th>\n",
       "    </tr>\n",
       "  </thead>\n",
       "  <tbody>\n",
       "    <tr>\n",
       "      <th>0</th>\n",
       "      <td>0.343658</td>\n",
       "    </tr>\n",
       "    <tr>\n",
       "      <th>1</th>\n",
       "      <td>0.550847</td>\n",
       "    </tr>\n",
       "    <tr>\n",
       "      <th>2</th>\n",
       "      <td>0.500000</td>\n",
       "    </tr>\n",
       "    <tr>\n",
       "      <th>3</th>\n",
       "      <td>0.600000</td>\n",
       "    </tr>\n",
       "    <tr>\n",
       "      <th>4</th>\n",
       "      <td>0.000000</td>\n",
       "    </tr>\n",
       "    <tr>\n",
       "      <th>5</th>\n",
       "      <td>0.200000</td>\n",
       "    </tr>\n",
       "    <tr>\n",
       "      <th>6</th>\n",
       "      <td>0.000000</td>\n",
       "    </tr>\n",
       "  </tbody>\n",
       "</table>\n",
       "</div>"
      ],
      "text/plain": [
       "       Survived\n",
       "Parch          \n",
       "0      0.343658\n",
       "1      0.550847\n",
       "2      0.500000\n",
       "3      0.600000\n",
       "4      0.000000\n",
       "5      0.200000\n",
       "6      0.000000"
      ]
     },
     "execution_count": 22,
     "metadata": {},
     "output_type": "execute_result"
    }
   ],
   "source": [
    "train[['Parch','Survived']].groupby('Parch').mean()"
   ]
  },
  {
   "cell_type": "markdown",
   "metadata": {},
   "source": [
    "#### It seems that individuals with 1,2 or 3 family members had a greater Probability of Survival, followed by individuals who were Alone.\n",
    "\n",
    "Looking at Parch and SibSp, we can see that individuals having Family Members had a slightly greater chance of Survival.\n"
   ]
  },
  {
   "cell_type": "markdown",
   "metadata": {},
   "source": [
    "## Feature Engineering"
   ]
  },
  {
   "cell_type": "code",
   "execution_count": 23,
   "metadata": {},
   "outputs": [],
   "source": [
    "labels_train = train['Survived']\n",
    "train.drop('Survived', axis=1, inplace=True)"
   ]
  },
  {
   "cell_type": "code",
   "execution_count": 24,
   "metadata": {},
   "outputs": [],
   "source": [
    "combined_features = train.append(test)\n",
    "combined_features.reset_index(inplace=True)\n",
    "combined_features.drop('index', axis=1, inplace=True)"
   ]
  },
  {
   "cell_type": "code",
   "execution_count": 25,
   "metadata": {},
   "outputs": [],
   "source": [
    "combined_features['Title']= combined_features['Name'].map(\n",
    "    lambda name: name.split(',')[1].split('.')[0].strip())\n",
    "Title_Dictionary = {\n",
    "                        \"Capt\":       \"Officer\",\n",
    "                        \"Col\":        \"Officer\",\n",
    "                        \"Major\":      \"Officer\",\n",
    "                        \"Jonkheer\":   \"Royalty\",\n",
    "                        \"Don\":        \"Royalty\",\n",
    "                        \"Sir\" :       \"Royalty\",\n",
    "                        \"Dr\":         \"Officer\",\n",
    "                        \"Rev\":        \"Officer\",\n",
    "                        \"the Countess\":\"Royalty\",\n",
    "                        \"Dona\":       \"Royalty\",\n",
    "                        \"Mme\":        \"Mrs\",\n",
    "                        \"Mlle\":       \"Miss\",\n",
    "                        \"Ms\":         \"Mrs\",\n",
    "                        \"Mr\" :        \"Mr\",\n",
    "                        \"Mrs\" :       \"Mrs\",\n",
    "                        \"Miss\" :      \"Miss\",\n",
    "                        \"Master\" :    \"Master\",\n",
    "                        \"Lady\" :      \"Royalty\"\n",
    "\n",
    "                        }\n",
    "combined_features['Title']=combined_features.Title.map(Title_Dictionary)"
   ]
  },
  {
   "cell_type": "code",
   "execution_count": 26,
   "metadata": {},
   "outputs": [],
   "source": [
    "grouped_train = combined_features.head(891).groupby(['Sex','Pclass','Title'])\n",
    "grouped_median_train = grouped_train.median()"
   ]
  },
  {
   "cell_type": "code",
   "execution_count": 27,
   "metadata": {},
   "outputs": [
    {
     "name": "stderr",
     "output_type": "stream",
     "text": [
      "/Library/Frameworks/Python.framework/Versions/3.7/lib/python3.7/site-packages/pandas/core/generic.py:5096: SettingWithCopyWarning: \n",
      "A value is trying to be set on a copy of a slice from a DataFrame.\n",
      "Try using .loc[row_indexer,col_indexer] = value instead\n",
      "\n",
      "See the caveats in the documentation: http://pandas.pydata.org/pandas-docs/stable/indexing.html#indexing-view-versus-copy\n",
      "  self[name] = value\n"
     ]
    }
   ],
   "source": [
    "grouped_test = combined_features.iloc[891:].groupby(['Sex','Pclass','Title'])\n",
    "grouped_median_test = grouped_test.median()\n",
    "def fillAges(row, grouped_median):\n",
    "    if row['Sex'] == 'female' and row['Pclass'] == 1:\n",
    "        if row['Title'] == 'Miss':\n",
    "            return grouped_median.loc['female', 1, 'Miss']['Age']\n",
    "        elif row['Title'] == 'Mrs':\n",
    "            return grouped_median.loc['female', 1, 'Mrs']['Age']\n",
    "        elif row['Title'] == 'Officer':\n",
    "            return grouped_median.loc['female', 1, 'Officer']['Age']\n",
    "        elif row['Title'] == 'Royalty':\n",
    "            return grouped_median.loc['female', 1, 'Royalty']['Age']\n",
    "\n",
    "    elif row['Sex'] == 'female' and row['Pclass'] == 2:\n",
    "        if row['Title'] == 'Miss':\n",
    "            return grouped_median.loc['female', 2, 'Miss']['Age']\n",
    "        elif row['Title'] == 'Mrs':\n",
    "            return grouped_median.loc['female', 2, 'Mrs']['Age']\n",
    "\n",
    "    elif row['Sex'] == 'female' and row['Pclass'] == 3:\n",
    "        if row['Title'] == 'Miss':\n",
    "            return grouped_median.loc['female', 3, 'Miss']['Age']\n",
    "        elif row['Title'] == 'Mrs':\n",
    "            return grouped_median.loc['female', 3, 'Mrs']['Age']\n",
    "\n",
    "    elif row['Sex'] == 'male' and row['Pclass'] == 1:\n",
    "        if row['Title'] == 'Master':\n",
    "            return grouped_median.loc['male', 1, 'Master']['Age']\n",
    "        elif row['Title'] == 'Mr':\n",
    "            return grouped_median.loc['male', 1, 'Mr']['Age']\n",
    "        elif row['Title'] == 'Officer':\n",
    "            return grouped_median.loc['male', 1, 'Officer']['Age']\n",
    "        elif row['Title'] == 'Royalty':\n",
    "            return grouped_median.loc['male', 1, 'Royalty']['Age']\n",
    "\n",
    "    elif row['Sex'] == 'male' and row['Pclass'] == 2:\n",
    "        if row['Title'] == 'Master':\n",
    "            return grouped_median.loc['male', 2, 'Master']['Age']\n",
    "        elif row['Title'] == 'Mr':\n",
    "            return grouped_median.loc['male', 2, 'Mr']['Age']\n",
    "        elif row['Title'] == 'Officer':\n",
    "            return grouped_median.loc['male', 2, 'Officer']['Age']\n",
    "\n",
    "    elif row['Sex'] == 'male' and row['Pclass'] == 3:\n",
    "        if row['Title'] == 'Master':\n",
    "            return grouped_median.loc['male', 3, 'Master']['Age']\n",
    "        elif row['Title'] == 'Mr':\n",
    "            return grouped_median.loc['male', 3, 'Mr']['Age']\n",
    "\n",
    "combined_features.head(891).Age = combined_features.head(891).apply(lambda r: fillAges(r, grouped_median_train) if np.isnan(r['Age'])\n",
    "    else r['Age'], axis=1)\n",
    "\n",
    "combined_features.iloc[891:].Age = combined_features.iloc[891:].apply(lambda r: fillAges(r, grouped_median_test) if np.isnan(r['Age'])\n",
    "    else r['Age'], axis=1)\n"
   ]
  },
  {
   "cell_type": "code",
   "execution_count": 28,
   "metadata": {},
   "outputs": [],
   "source": [
    "# Processing names: drop names and encode the titles using dummy encoding from pandas\n",
    "combined_features.drop('Name', axis=1, inplace=True)\n",
    "dummy_titles = pd.get_dummies(combined_features['Title'], prefix='Title')\n",
    "combined_features = pd.concat([combined_features, dummy_titles], axis=1)\n",
    "combined_features.drop('Title', axis=1, inplace=True)"
   ]
  },
  {
   "cell_type": "code",
   "execution_count": 29,
   "metadata": {},
   "outputs": [
    {
     "name": "stderr",
     "output_type": "stream",
     "text": [
      "/Library/Frameworks/Python.framework/Versions/3.7/lib/python3.7/site-packages/pandas/core/generic.py:6130: SettingWithCopyWarning: \n",
      "A value is trying to be set on a copy of a slice from a DataFrame\n",
      "\n",
      "See the caveats in the documentation: http://pandas.pydata.org/pandas-docs/stable/indexing.html#indexing-view-versus-copy\n",
      "  self._update_inplace(new_data)\n"
     ]
    }
   ],
   "source": [
    "# Processing Fares: fill empty spaces with mean\n",
    "combined_features.head(891).Fare.fillna(combined_features.head(891).Fare.mean(), inplace=True)\n",
    "combined_features.iloc[891:].Fare.fillna(combined_features.iloc[891:].Fare.mean(), inplace=True)"
   ]
  },
  {
   "cell_type": "code",
   "execution_count": 30,
   "metadata": {},
   "outputs": [],
   "source": [
    "#Processing Embarked: drop it\n",
    "combined_features.drop('Embarked', axis=1, inplace=True)\n",
    "\n",
    "#Processing Ticket: drop it\n",
    "combined_features.drop('Ticket', axis=1, inplace=True)"
   ]
  },
  {
   "cell_type": "code",
   "execution_count": 31,
   "metadata": {},
   "outputs": [],
   "source": [
    "#Processing Cabin:\n",
    "combined_features.Cabin.fillna('U', inplace=True)\n",
    "\n",
    "# mapping each Cabin value with the cabin letter\n",
    "combined_features['Cabin'] = combined_features['Cabin'].map(lambda c: c[0])\n",
    "\n",
    "cabin_dummies = pd.get_dummies(combined_features['Cabin'], prefix='Cabin')\n",
    "combined_features = pd.concat([combined_features, cabin_dummies], axis=1)\n",
    "combined_features.drop('Cabin', axis=1, inplace=True)"
   ]
  },
  {
   "cell_type": "code",
   "execution_count": 32,
   "metadata": {},
   "outputs": [],
   "source": [
    "# Processing sex\n",
    "combined_features['Sex'] = combined_features['Sex'].map({'male':1,'female':0})"
   ]
  },
  {
   "cell_type": "code",
   "execution_count": 33,
   "metadata": {},
   "outputs": [],
   "source": [
    "# Processing pclass\n",
    "pclass_dummies = pd.get_dummies(combined_features['Pclass'], prefix=\"Pclass\")\n",
    "combined_features = pd.concat([combined_features, pclass_dummies], axis=1)\n",
    "combined_features.drop('Pclass', axis=1, inplace=True)"
   ]
  },
  {
   "cell_type": "code",
   "execution_count": 34,
   "metadata": {},
   "outputs": [],
   "source": [
    "# Processing PassengerId\n",
    "combined_features.drop('PassengerId', axis=1, inplace=True)"
   ]
  },
  {
   "cell_type": "code",
   "execution_count": 35,
   "metadata": {},
   "outputs": [],
   "source": [
    "# Processing family\n",
    "combined_features['FamilySize'] = combined_features['Parch'] + combined_features['SibSp'] + 1\n",
    "combined_features['Singleton'] = combined_features['FamilySize'].map(lambda s: 1 if s == 1 else 0)\n",
    "combined_features['SmallFamily'] = combined_features['FamilySize'].map(lambda s: 1 if 2 <= s <= 4 else 0)\n",
    "combined_features['LargeFamily'] = combined_features['FamilySize'].map(lambda s: 1 if 5 <= s else 0)\n",
    "combined_features.drop('Parch', axis=1, inplace=True)\n",
    "combined_features.drop('SibSp', axis=1, inplace=True)"
   ]
  },
  {
   "cell_type": "code",
   "execution_count": 36,
   "metadata": {},
   "outputs": [
    {
     "name": "stdout",
     "output_type": "stream",
     "text": [
      "   Sex       Age      Fare  Title_Master  Title_Miss  Title_Mr  Title_Mrs  \\\n",
      "0    1 -0.092195 -0.050841             0           0         1          0   \n",
      "1    0  0.107805  0.074144             0           0         0          1   \n",
      "2    0 -0.042195 -0.049523             0           1         0          0   \n",
      "3    0  0.070305  0.038652             0           0         0          1   \n",
      "4    1  0.070305 -0.049279             0           0         1          0   \n",
      "\n",
      "   Title_Officer  Title_Royalty  Cabin_A  ...  Cabin_G  Cabin_T  Cabin_U  \\\n",
      "0              0              0        0  ...        0        0        1   \n",
      "1              0              0        0  ...        0        0        0   \n",
      "2              0              0        0  ...        0        0        1   \n",
      "3              0              0        0  ...        0        0        0   \n",
      "4              0              0        0  ...        0        0        1   \n",
      "\n",
      "   Pclass_1  Pclass_2  Pclass_3  FamilySize  Singleton  SmallFamily  \\\n",
      "0         0         0         1           2          0            1   \n",
      "1         1         0         0           2          0            1   \n",
      "2         0         0         1           1          1            0   \n",
      "3         1         0         0           2          0            1   \n",
      "4         0         0         1           1          1            0   \n",
      "\n",
      "   LargeFamily  \n",
      "0            0  \n",
      "1            0  \n",
      "2            0  \n",
      "3            0  \n",
      "4            0  \n",
      "\n",
      "[5 rows x 25 columns]\n"
     ]
    }
   ],
   "source": [
    "#Scaling\n",
    "scale=max(combined_features['Age'])\n",
    "combined_features['Age']/=scale\n",
    "mean=np.mean(combined_features['Age'])\n",
    "combined_features['Age']-=mean\n",
    "\n",
    "scale=max(combined_features['Fare'])\n",
    "combined_features['Fare']/=scale\n",
    "mean=np.mean(combined_features['Fare'])\n",
    "combined_features['Fare']-=mean\n",
    "\n",
    "\n",
    "print(combined_features.head())"
   ]
  },
  {
   "cell_type": "code",
   "execution_count": 37,
   "metadata": {},
   "outputs": [],
   "source": [
    "features_train=combined_features[:891]\n",
    "features_test=combined_features[891:]"
   ]
  },
  {
   "cell_type": "code",
   "execution_count": 44,
   "metadata": {},
   "outputs": [
    {
     "name": "stderr",
     "output_type": "stream",
     "text": [
      "W0830 00:49:53.752465 4638721472 deprecation_wrapper.py:119] From /Library/Frameworks/Python.framework/Versions/3.7/lib/python3.7/site-packages/keras/backend/tensorflow_backend.py:517: The name tf.placeholder is deprecated. Please use tf.compat.v1.placeholder instead.\n",
      "\n",
      "W0830 00:49:53.756165 4638721472 deprecation_wrapper.py:119] From /Library/Frameworks/Python.framework/Versions/3.7/lib/python3.7/site-packages/keras/backend/tensorflow_backend.py:4138: The name tf.random_uniform is deprecated. Please use tf.random.uniform instead.\n",
      "\n",
      "W0830 00:49:53.786765 4638721472 deprecation_wrapper.py:119] From /Library/Frameworks/Python.framework/Versions/3.7/lib/python3.7/site-packages/keras/backend/tensorflow_backend.py:133: The name tf.placeholder_with_default is deprecated. Please use tf.compat.v1.placeholder_with_default instead.\n",
      "\n",
      "W0830 00:49:53.808260 4638721472 deprecation.py:506] From /Library/Frameworks/Python.framework/Versions/3.7/lib/python3.7/site-packages/keras/backend/tensorflow_backend.py:3445: calling dropout (from tensorflow.python.ops.nn_ops) with keep_prob is deprecated and will be removed in a future version.\n",
      "Instructions for updating:\n",
      "Please use `rate` instead of `keep_prob`. Rate should be set to `rate = 1 - keep_prob`.\n",
      "W0830 00:49:53.908042 4638721472 deprecation_wrapper.py:119] From /Library/Frameworks/Python.framework/Versions/3.7/lib/python3.7/site-packages/keras/optimizers.py:790: The name tf.train.Optimizer is deprecated. Please use tf.compat.v1.train.Optimizer instead.\n",
      "\n",
      "W0830 00:49:53.938855 4638721472 deprecation_wrapper.py:119] From /Library/Frameworks/Python.framework/Versions/3.7/lib/python3.7/site-packages/keras/backend/tensorflow_backend.py:3295: The name tf.log is deprecated. Please use tf.math.log instead.\n",
      "\n"
     ]
    }
   ],
   "source": [
    "from keras.models import Sequential\n",
    "from keras.utils import np_utils\n",
    "from keras.layers.core import Dense, Activation, Dropout\n",
    "from keras.metrics import categorical_accuracy as accuracy\n",
    "from keras import regularizers\n",
    "from sklearn.model_selection import cross_val_score\n",
    "model = Sequential()\n",
    "model.add(Dense(512, input_dim=25))\n",
    "model.add(Activation('relu'))\n",
    "model.add(Dropout(0.25))\n",
    "model.add(Dense(128))\n",
    "model.add(Activation('relu'))\n",
    "model.add(Dense(128))\n",
    "model.add(Activation('relu'))\n",
    "model.add(Dropout(0.5))\n",
    "model.add(Dense(2))\n",
    "model.add(Activation('softmax'))\n",
    "labels_train = np_utils.to_categorical(labels_train)\n",
    "\n",
    "# we'll use categorical xent for the loss, and RMSprop as the optimizer\n",
    "model.compile(loss='categorical_crossentropy', optimizer='adam', metrics=['accuracy'])\n",
    "clf=model"
   ]
  },
  {
   "cell_type": "code",
   "execution_count": 45,
   "metadata": {},
   "outputs": [
    {
     "name": "stderr",
     "output_type": "stream",
     "text": [
      "W0830 00:50:15.171813 4638721472 deprecation.py:323] From /Library/Frameworks/Python.framework/Versions/3.7/lib/python3.7/site-packages/tensorflow/python/ops/math_grad.py:1250: add_dispatch_support.<locals>.wrapper (from tensorflow.python.ops.array_ops) is deprecated and will be removed in a future version.\n",
      "Instructions for updating:\n",
      "Use tf.where in 2.0, which has the same broadcast rule as np.where\n"
     ]
    },
    {
     "name": "stdout",
     "output_type": "stream",
     "text": [
      "Train on 801 samples, validate on 90 samples\n",
      "Epoch 1/88\n",
      "801/801 [==============================] - 1s 956us/step - loss: 0.5599 - acc: 0.7166 - val_loss: 0.4291 - val_acc: 0.8111\n",
      "Epoch 2/88\n",
      "801/801 [==============================] - 0s 258us/step - loss: 0.4649 - acc: 0.8102 - val_loss: 0.3904 - val_acc: 0.8222\n",
      "Epoch 3/88\n",
      "801/801 [==============================] - 0s 162us/step - loss: 0.4330 - acc: 0.8190 - val_loss: 0.3611 - val_acc: 0.8444\n",
      "Epoch 4/88\n",
      "801/801 [==============================] - 0s 122us/step - loss: 0.4232 - acc: 0.8315 - val_loss: 0.3467 - val_acc: 0.8444\n",
      "Epoch 5/88\n",
      "801/801 [==============================] - 0s 125us/step - loss: 0.4206 - acc: 0.8265 - val_loss: 0.3690 - val_acc: 0.8556\n",
      "Epoch 6/88\n",
      "801/801 [==============================] - 0s 113us/step - loss: 0.4057 - acc: 0.8227 - val_loss: 0.3402 - val_acc: 0.8444\n",
      "Epoch 7/88\n",
      "801/801 [==============================] - 0s 113us/step - loss: 0.4334 - acc: 0.8115 - val_loss: 0.3344 - val_acc: 0.8556\n",
      "Epoch 8/88\n",
      "801/801 [==============================] - 0s 137us/step - loss: 0.4076 - acc: 0.8414 - val_loss: 0.3382 - val_acc: 0.8556\n",
      "Epoch 9/88\n",
      "801/801 [==============================] - 0s 169us/step - loss: 0.4034 - acc: 0.8340 - val_loss: 0.3305 - val_acc: 0.8444\n",
      "Epoch 10/88\n",
      "801/801 [==============================] - 0s 142us/step - loss: 0.4285 - acc: 0.8052 - val_loss: 0.3370 - val_acc: 0.8778\n",
      "Epoch 11/88\n",
      "801/801 [==============================] - 0s 123us/step - loss: 0.3988 - acc: 0.8277 - val_loss: 0.3322 - val_acc: 0.8556\n",
      "Epoch 12/88\n",
      "801/801 [==============================] - 0s 111us/step - loss: 0.4032 - acc: 0.8302 - val_loss: 0.3309 - val_acc: 0.8556\n",
      "Epoch 13/88\n",
      "801/801 [==============================] - 0s 118us/step - loss: 0.3904 - acc: 0.8427 - val_loss: 0.3490 - val_acc: 0.8667\n",
      "Epoch 14/88\n",
      "801/801 [==============================] - 0s 123us/step - loss: 0.4037 - acc: 0.8327 - val_loss: 0.3449 - val_acc: 0.8556\n",
      "Epoch 15/88\n",
      "801/801 [==============================] - 0s 127us/step - loss: 0.3862 - acc: 0.8402 - val_loss: 0.3186 - val_acc: 0.8667\n",
      "Epoch 16/88\n",
      "801/801 [==============================] - 0s 124us/step - loss: 0.3772 - acc: 0.8464 - val_loss: 0.3197 - val_acc: 0.8667\n",
      "Epoch 17/88\n",
      "801/801 [==============================] - 0s 126us/step - loss: 0.3884 - acc: 0.8327 - val_loss: 0.3336 - val_acc: 0.8556\n",
      "Epoch 18/88\n",
      "801/801 [==============================] - 0s 128us/step - loss: 0.3719 - acc: 0.8365 - val_loss: 0.3405 - val_acc: 0.8667\n",
      "Epoch 19/88\n",
      "801/801 [==============================] - 0s 111us/step - loss: 0.3886 - acc: 0.8327 - val_loss: 0.3089 - val_acc: 0.8556\n",
      "Epoch 20/88\n",
      "801/801 [==============================] - 0s 161us/step - loss: 0.3819 - acc: 0.8489 - val_loss: 0.3126 - val_acc: 0.8556\n",
      "Epoch 21/88\n",
      "801/801 [==============================] - 0s 182us/step - loss: 0.3694 - acc: 0.8377 - val_loss: 0.3188 - val_acc: 0.8667\n",
      "Epoch 22/88\n",
      "801/801 [==============================] - 0s 185us/step - loss: 0.3916 - acc: 0.8402 - val_loss: 0.3276 - val_acc: 0.8556\n",
      "Epoch 23/88\n",
      "801/801 [==============================] - 0s 168us/step - loss: 0.3822 - acc: 0.8427 - val_loss: 0.3168 - val_acc: 0.8556\n",
      "Epoch 24/88\n",
      "801/801 [==============================] - 0s 169us/step - loss: 0.3768 - acc: 0.8414 - val_loss: 0.3261 - val_acc: 0.8667\n",
      "Epoch 25/88\n",
      "801/801 [==============================] - 0s 168us/step - loss: 0.3739 - acc: 0.8452 - val_loss: 0.3134 - val_acc: 0.8556\n",
      "Epoch 26/88\n",
      "801/801 [==============================] - 0s 128us/step - loss: 0.3681 - acc: 0.8402 - val_loss: 0.3107 - val_acc: 0.8556\n",
      "Epoch 27/88\n",
      "801/801 [==============================] - 0s 160us/step - loss: 0.3709 - acc: 0.8439 - val_loss: 0.3116 - val_acc: 0.8556\n",
      "Epoch 28/88\n",
      "801/801 [==============================] - 0s 164us/step - loss: 0.3674 - acc: 0.8414 - val_loss: 0.3189 - val_acc: 0.8556\n",
      "Epoch 29/88\n",
      "801/801 [==============================] - 0s 166us/step - loss: 0.3661 - acc: 0.8439 - val_loss: 0.3112 - val_acc: 0.8556\n",
      "Epoch 30/88\n",
      "801/801 [==============================] - 0s 160us/step - loss: 0.3726 - acc: 0.8527 - val_loss: 0.3101 - val_acc: 0.8556\n",
      "Epoch 31/88\n",
      "801/801 [==============================] - 0s 155us/step - loss: 0.3693 - acc: 0.8464 - val_loss: 0.3038 - val_acc: 0.8667\n",
      "Epoch 32/88\n",
      "801/801 [==============================] - 0s 179us/step - loss: 0.3874 - acc: 0.8390 - val_loss: 0.3171 - val_acc: 0.8667\n",
      "Epoch 33/88\n",
      "801/801 [==============================] - 0s 173us/step - loss: 0.3776 - acc: 0.8489 - val_loss: 0.3144 - val_acc: 0.8667\n",
      "Epoch 34/88\n",
      "801/801 [==============================] - 0s 142us/step - loss: 0.3946 - acc: 0.8302 - val_loss: 0.3068 - val_acc: 0.8333\n",
      "Epoch 35/88\n",
      "801/801 [==============================] - 0s 129us/step - loss: 0.3779 - acc: 0.8390 - val_loss: 0.3206 - val_acc: 0.8667\n",
      "Epoch 36/88\n",
      "801/801 [==============================] - 0s 113us/step - loss: 0.3814 - acc: 0.8464 - val_loss: 0.3097 - val_acc: 0.8333\n",
      "Epoch 37/88\n",
      "801/801 [==============================] - 0s 130us/step - loss: 0.3787 - acc: 0.8452 - val_loss: 0.3066 - val_acc: 0.8556\n",
      "Epoch 38/88\n",
      "801/801 [==============================] - 0s 150us/step - loss: 0.3669 - acc: 0.8527 - val_loss: 0.3147 - val_acc: 0.8333\n",
      "Epoch 39/88\n",
      "801/801 [==============================] - 0s 165us/step - loss: 0.3630 - acc: 0.8489 - val_loss: 0.3254 - val_acc: 0.8667\n",
      "Epoch 40/88\n",
      "801/801 [==============================] - 0s 165us/step - loss: 0.3552 - acc: 0.8427 - val_loss: 0.2971 - val_acc: 0.8444\n",
      "Epoch 41/88\n",
      "801/801 [==============================] - 0s 143us/step - loss: 0.3643 - acc: 0.8489 - val_loss: 0.3032 - val_acc: 0.8444\n",
      "Epoch 42/88\n",
      "801/801 [==============================] - 0s 135us/step - loss: 0.3544 - acc: 0.8527 - val_loss: 0.3280 - val_acc: 0.8667\n",
      "Epoch 43/88\n",
      "801/801 [==============================] - 0s 124us/step - loss: 0.3700 - acc: 0.8552 - val_loss: 0.3130 - val_acc: 0.8444\n",
      "Epoch 44/88\n",
      "801/801 [==============================] - 0s 123us/step - loss: 0.3588 - acc: 0.8564 - val_loss: 0.3100 - val_acc: 0.8333\n",
      "Epoch 45/88\n",
      "801/801 [==============================] - 0s 124us/step - loss: 0.3614 - acc: 0.8477 - val_loss: 0.3142 - val_acc: 0.8667\n",
      "Epoch 46/88\n",
      "801/801 [==============================] - 0s 135us/step - loss: 0.3616 - acc: 0.8552 - val_loss: 0.3151 - val_acc: 0.8333\n",
      "Epoch 47/88\n",
      "801/801 [==============================] - 0s 133us/step - loss: 0.3527 - acc: 0.8514 - val_loss: 0.3118 - val_acc: 0.8556\n",
      "Epoch 48/88\n",
      "801/801 [==============================] - 0s 116us/step - loss: 0.3558 - acc: 0.8502 - val_loss: 0.3156 - val_acc: 0.8556\n",
      "Epoch 49/88\n",
      "801/801 [==============================] - 0s 125us/step - loss: 0.3506 - acc: 0.8477 - val_loss: 0.3218 - val_acc: 0.8556\n",
      "Epoch 50/88\n",
      "801/801 [==============================] - 0s 123us/step - loss: 0.3532 - acc: 0.8514 - val_loss: 0.3120 - val_acc: 0.8556\n",
      "Epoch 51/88\n",
      "801/801 [==============================] - 0s 127us/step - loss: 0.3585 - acc: 0.8514 - val_loss: 0.3299 - val_acc: 0.8556\n",
      "Epoch 52/88\n",
      "801/801 [==============================] - 0s 139us/step - loss: 0.3514 - acc: 0.8527 - val_loss: 0.3193 - val_acc: 0.8333\n",
      "Epoch 53/88\n",
      "801/801 [==============================] - 0s 165us/step - loss: 0.3464 - acc: 0.8564 - val_loss: 0.3183 - val_acc: 0.8444\n",
      "Epoch 54/88\n",
      "801/801 [==============================] - 0s 136us/step - loss: 0.3432 - acc: 0.8527 - val_loss: 0.3272 - val_acc: 0.8333\n",
      "Epoch 55/88\n",
      "801/801 [==============================] - 0s 162us/step - loss: 0.3522 - acc: 0.8527 - val_loss: 0.3220 - val_acc: 0.8333\n",
      "Epoch 56/88\n",
      "801/801 [==============================] - 0s 205us/step - loss: 0.3434 - acc: 0.8552 - val_loss: 0.3200 - val_acc: 0.8333\n",
      "Epoch 57/88\n",
      "801/801 [==============================] - 0s 184us/step - loss: 0.3484 - acc: 0.8539 - val_loss: 0.3354 - val_acc: 0.8444\n",
      "Epoch 58/88\n",
      "801/801 [==============================] - 0s 139us/step - loss: 0.3436 - acc: 0.8539 - val_loss: 0.3198 - val_acc: 0.8333\n",
      "Epoch 59/88\n",
      "801/801 [==============================] - 0s 178us/step - loss: 0.3658 - acc: 0.8514 - val_loss: 0.3290 - val_acc: 0.8556\n",
      "Epoch 60/88\n",
      "801/801 [==============================] - 0s 150us/step - loss: 0.3714 - acc: 0.8502 - val_loss: 0.3082 - val_acc: 0.8333\n",
      "Epoch 61/88\n"
     ]
    },
    {
     "name": "stdout",
     "output_type": "stream",
     "text": [
      "801/801 [==============================] - 0s 108us/step - loss: 0.3442 - acc: 0.8564 - val_loss: 0.3128 - val_acc: 0.8333\n",
      "Epoch 62/88\n",
      "801/801 [==============================] - 0s 150us/step - loss: 0.3461 - acc: 0.8577 - val_loss: 0.3272 - val_acc: 0.8556\n",
      "Epoch 63/88\n",
      "801/801 [==============================] - 0s 162us/step - loss: 0.3518 - acc: 0.8514 - val_loss: 0.3148 - val_acc: 0.8556\n",
      "Epoch 64/88\n",
      "801/801 [==============================] - 0s 108us/step - loss: 0.3416 - acc: 0.8539 - val_loss: 0.3186 - val_acc: 0.8556\n",
      "Epoch 65/88\n",
      "801/801 [==============================] - 0s 127us/step - loss: 0.3485 - acc: 0.8477 - val_loss: 0.3236 - val_acc: 0.8667\n",
      "Epoch 66/88\n",
      "801/801 [==============================] - 0s 107us/step - loss: 0.3483 - acc: 0.8527 - val_loss: 0.3224 - val_acc: 0.8556\n",
      "Epoch 67/88\n",
      "801/801 [==============================] - 0s 102us/step - loss: 0.3515 - acc: 0.8502 - val_loss: 0.3053 - val_acc: 0.8444\n",
      "Epoch 68/88\n",
      "801/801 [==============================] - 0s 98us/step - loss: 0.3424 - acc: 0.8552 - val_loss: 0.3454 - val_acc: 0.8556\n",
      "Epoch 69/88\n",
      "801/801 [==============================] - 0s 98us/step - loss: 0.3390 - acc: 0.8527 - val_loss: 0.3219 - val_acc: 0.8556\n",
      "Epoch 70/88\n",
      "801/801 [==============================] - 0s 108us/step - loss: 0.3483 - acc: 0.8527 - val_loss: 0.3216 - val_acc: 0.8667\n",
      "Epoch 71/88\n",
      "801/801 [==============================] - 0s 146us/step - loss: 0.3455 - acc: 0.8577 - val_loss: 0.3131 - val_acc: 0.8556\n",
      "Epoch 72/88\n",
      "801/801 [==============================] - 0s 97us/step - loss: 0.3362 - acc: 0.8614 - val_loss: 0.3173 - val_acc: 0.8556\n",
      "Epoch 73/88\n",
      "801/801 [==============================] - 0s 99us/step - loss: 0.3544 - acc: 0.8577 - val_loss: 0.3383 - val_acc: 0.8556\n",
      "Epoch 74/88\n",
      "801/801 [==============================] - 0s 97us/step - loss: 0.3438 - acc: 0.8577 - val_loss: 0.3194 - val_acc: 0.8556\n",
      "Epoch 75/88\n",
      "801/801 [==============================] - 0s 101us/step - loss: 0.3402 - acc: 0.8627 - val_loss: 0.3240 - val_acc: 0.8556\n",
      "Epoch 76/88\n",
      "801/801 [==============================] - 0s 95us/step - loss: 0.3496 - acc: 0.8614 - val_loss: 0.3119 - val_acc: 0.8667\n",
      "Epoch 77/88\n",
      "801/801 [==============================] - 0s 102us/step - loss: 0.3428 - acc: 0.8564 - val_loss: 0.3098 - val_acc: 0.8667\n",
      "Epoch 78/88\n",
      "801/801 [==============================] - 0s 98us/step - loss: 0.3418 - acc: 0.8577 - val_loss: 0.3189 - val_acc: 0.8667\n",
      "Epoch 79/88\n",
      "801/801 [==============================] - 0s 95us/step - loss: 0.3541 - acc: 0.8414 - val_loss: 0.3232 - val_acc: 0.8667\n",
      "Epoch 80/88\n",
      "801/801 [==============================] - 0s 94us/step - loss: 0.3450 - acc: 0.8464 - val_loss: 0.3172 - val_acc: 0.8667\n",
      "Epoch 81/88\n",
      "801/801 [==============================] - 0s 106us/step - loss: 0.3411 - acc: 0.8614 - val_loss: 0.3147 - val_acc: 0.8444\n",
      "Epoch 82/88\n",
      "801/801 [==============================] - 0s 98us/step - loss: 0.3682 - acc: 0.8489 - val_loss: 0.3129 - val_acc: 0.8778\n",
      "Epoch 83/88\n",
      "801/801 [==============================] - 0s 104us/step - loss: 0.3634 - acc: 0.8564 - val_loss: 0.2973 - val_acc: 0.8667\n",
      "Epoch 84/88\n",
      "801/801 [==============================] - 0s 98us/step - loss: 0.3442 - acc: 0.8614 - val_loss: 0.2984 - val_acc: 0.8667\n",
      "Epoch 85/88\n",
      "801/801 [==============================] - 0s 96us/step - loss: 0.3439 - acc: 0.8564 - val_loss: 0.3002 - val_acc: 0.8667\n",
      "Epoch 86/88\n",
      "801/801 [==============================] - 0s 98us/step - loss: 0.3397 - acc: 0.8627 - val_loss: 0.3023 - val_acc: 0.8667\n",
      "Epoch 87/88\n",
      "801/801 [==============================] - 0s 103us/step - loss: 0.3460 - acc: 0.8539 - val_loss: 0.2982 - val_acc: 0.8556\n",
      "Epoch 88/88\n",
      "801/801 [==============================] - 0s 106us/step - loss: 0.3375 - acc: 0.8589 - val_loss: 0.3131 - val_acc: 0.8556\n"
     ]
    }
   ],
   "source": [
    "clf.fit(np.array(features_train),labels_train,validation_split=0.1,epochs=88)\n",
    "out = clf.predict(np.array(features_test))\n",
    "#print(accuracy_score(out,labels_test))\n",
    "pred=[]\n",
    "for x in out:\n",
    "    if(x[1]>0.5):\n",
    "        pred.append(1)\n",
    "    else:\n",
    "        pred.append(0)\n",
    "\n",
    "out1=pred"
   ]
  },
  {
   "cell_type": "code",
   "execution_count": 47,
   "metadata": {},
   "outputs": [],
   "source": [
    "import csv\n",
    "idk = open('test.csv','r')\n",
    "idk = csv.DictReader(idk)\n",
    "pred = []\n",
    "for row in idk:\n",
    "    pred.append(row[\"PassengerId\"])\n",
    "est = csv.writer(open('result.csv', 'w'), delimiter=',', quotechar='|', quoting=csv.QUOTE_MINIMAL)\n",
    "est.writerows([[\"PassengerID\",\"Survived\"]])\n",
    "k=0\n",
    "for x in pred:\n",
    "    est.writerows([[str(x), str(out1[k])]])\n",
    "    k+=1"
   ]
  },
  {
   "cell_type": "code",
   "execution_count": null,
   "metadata": {},
   "outputs": [],
   "source": []
  }
 ],
 "metadata": {
  "kernelspec": {
   "display_name": "Python 3",
   "language": "python",
   "name": "python3"
  },
  "language_info": {
   "codemirror_mode": {
    "name": "ipython",
    "version": 3
   },
   "file_extension": ".py",
   "mimetype": "text/x-python",
   "name": "python",
   "nbconvert_exporter": "python",
   "pygments_lexer": "ipython3",
   "version": "3.7.1"
  }
 },
 "nbformat": 4,
 "nbformat_minor": 2
}
